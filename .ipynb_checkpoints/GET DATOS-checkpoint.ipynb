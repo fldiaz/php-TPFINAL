{
 "cells": [
  {
   "cell_type": "code",
   "execution_count": 1,
   "metadata": {},
   "outputs": [],
   "source": [
    "import requests\n",
    "import pandas as pd\n",
    "from pandas.io.json import json_normalize\n",
    "import numpy as np\n",
    "import json\n"
   ]
  },
  {
   "cell_type": "code",
   "execution_count": 2,
   "metadata": {},
   "outputs": [],
   "source": [
    "client_id='1912429941926624'\n",
    "secret_key= '2osL4sARz7dOXdlljMyu8YMjv3aCZcW5'\n",
    "ACCESS_TOKEN ='APP_USR-1912429941926624-060408-63fd54d10aea450892d96dce67d7d447-160106835'\n",
    "refresh= 'TG-5cf5409de7a1f500075c8307-160106835'\n",
    "User_id='160106835'\n"
   ]
  },
  {
   "cell_type": "code",
   "execution_count": null,
   "metadata": {},
   "outputs": [],
   "source": [
    "#usuarioscargados=pd.DataFrame(usuarios, columns = ['token' , 'experation', 'refresh', 'id'])\n",
    "#usuarioscargados.to_csv('usuarioscargados.csv')\n",
    "#usuarioscargados=pd.read_csv('usuarioscargados.csv')\n",
    "#usuarioscargados=usuarioscargados.astype({'id': str})\n",
    "#usuarioscargados.drop(range(0,6) ,axis=0, inplace=True)\n",
    "#usuarioscargados.to_csv('usuarioscargados.csv')"
   ]
  },
  {
   "cell_type": "code",
   "execution_count": 5,
   "metadata": {},
   "outputs": [
    {
     "name": "stdout",
     "output_type": "stream",
     "text": [
      "Selecting rows from usuarios table using cursor.fetchall\n",
      "Print each row and it's columns values\n",
      "PostgreSQL connection is closed\n"
     ]
    }
   ],
   "source": [
    "import psycopg2\n",
    "try:\n",
    "    connection = psycopg2.connect(user = \"xjubydasnrqhgz\",\n",
    "                                  password = \"30500059e50b99a49091dc7c5629414026f4dc5127988245a6f8a668882d242a\",\n",
    "                                  host = \"ec2-54-225-121-235.compute-1.amazonaws.com\",\n",
    "                                  port = \"5432\",\n",
    "                                  database = \"d8dcgc3t7r73g4\")\n",
    "    cursor = connection.cursor()\n",
    "    postgreSQL_select_Query = \"select * from usuarios\"\n",
    "    cursor.execute(postgreSQL_select_Query)\n",
    "    print(\"Selecting rows from usuarios table using cursor.fetchall\")\n",
    "    usuariosnuevos = cursor.fetchall() \n",
    "    print(\"Print each row and it's columns values\")\n",
    "    \n",
    "except (Exception, psycopg2.Error) as error :\n",
    "    print (\"Error while fetching data from PostgreSQL\", error)\n",
    "finally:\n",
    "    #closing database connection.\n",
    "    if(connection):\n",
    "        cursor.close()\n",
    "        connection.close()\n",
    "        print(\"PostgreSQL connection is closed\")\n",
    "    "
   ]
  },
  {
   "cell_type": "code",
   "execution_count": 6,
   "metadata": {},
   "outputs": [],
   "source": [
    "usuariosnuevos=pd.DataFrame(usuariosnuevos, columns = ['token' , 'experation', 'refresh', 'id'])"
   ]
  },
  {
   "cell_type": "code",
   "execution_count": 7,
   "metadata": {},
   "outputs": [
    {
     "data": {
      "text/html": [
       "<div>\n",
       "<style scoped>\n",
       "    .dataframe tbody tr th:only-of-type {\n",
       "        vertical-align: middle;\n",
       "    }\n",
       "\n",
       "    .dataframe tbody tr th {\n",
       "        vertical-align: top;\n",
       "    }\n",
       "\n",
       "    .dataframe thead th {\n",
       "        text-align: right;\n",
       "    }\n",
       "</style>\n",
       "<table border=\"1\" class=\"dataframe\">\n",
       "  <thead>\n",
       "    <tr style=\"text-align: right;\">\n",
       "      <th></th>\n",
       "      <th>token</th>\n",
       "      <th>experation</th>\n",
       "      <th>refresh</th>\n",
       "      <th>id</th>\n",
       "    </tr>\n",
       "  </thead>\n",
       "  <tbody>\n",
       "    <tr>\n",
       "      <th>0</th>\n",
       "      <td>APP_USR-1912429941926624-060715-9b583036141081...</td>\n",
       "      <td>1559957742</td>\n",
       "      <td>TG-5cfabc8e80c8a10006074632-160106835</td>\n",
       "      <td>160106835</td>\n",
       "    </tr>\n",
       "    <tr>\n",
       "      <th>1</th>\n",
       "      <td></td>\n",
       "      <td>1560083276</td>\n",
       "      <td></td>\n",
       "      <td></td>\n",
       "    </tr>\n",
       "    <tr>\n",
       "      <th>2</th>\n",
       "      <td>APP_USR-1912429941926624-060311-3cc742cad30302...</td>\n",
       "      <td>1559598333</td>\n",
       "      <td>TG-5cf5409de7a1f500075c8307-160106835</td>\n",
       "      <td>160106835</td>\n",
       "    </tr>\n",
       "    <tr>\n",
       "      <th>3</th>\n",
       "      <td>APP_USR-1912429941926624-060311-c410becc0e9883...</td>\n",
       "      <td>1559598688</td>\n",
       "      <td>TG-5cf5420082bacf0006fb8aff-109115405</td>\n",
       "      <td>109115405</td>\n",
       "    </tr>\n",
       "    <tr>\n",
       "      <th>4</th>\n",
       "      <td>APP_USR-1912429941926624-060408-63fd54d10aea45...</td>\n",
       "      <td>1559674323</td>\n",
       "      <td>TG-5cf6697382bacf00061c1b7d-160106835</td>\n",
       "      <td>160106835</td>\n",
       "    </tr>\n",
       "    <tr>\n",
       "      <th>5</th>\n",
       "      <td>APP_USR-1912429941926624-060413-c69a8ab2aee700...</td>\n",
       "      <td>1559689284</td>\n",
       "      <td>TG-5cf6a3e482bacf000623041e-160106835</td>\n",
       "      <td>160106835</td>\n",
       "    </tr>\n",
       "    <tr>\n",
       "      <th>6</th>\n",
       "      <td>APP_USR-1912429941926624-060518-05a26d15e5492c...</td>\n",
       "      <td>1559795665</td>\n",
       "      <td>TG-5cf84371e7a1f50007af8050-160106835</td>\n",
       "      <td>160106835</td>\n",
       "    </tr>\n",
       "    <tr>\n",
       "      <th>7</th>\n",
       "      <td>APP_USR-1912429941926624-060521-69416063977d1c...</td>\n",
       "      <td>1559805146</td>\n",
       "      <td>TG-5cf8687ad8f56b0006e09d0f-89591965</td>\n",
       "      <td>89591965</td>\n",
       "    </tr>\n",
       "    <tr>\n",
       "      <th>8</th>\n",
       "      <td>APP_USR-1912429941926624-060610-3654c6a11cfc3a...</td>\n",
       "      <td>1559851832</td>\n",
       "      <td>TG-5cf91ed81e1c2c00061c56f4-160106835</td>\n",
       "      <td>160106835</td>\n",
       "    </tr>\n",
       "    <tr>\n",
       "      <th>9</th>\n",
       "      <td>APP_USR-1912429941926624-060611-7161062a596d2d...</td>\n",
       "      <td>1559854940</td>\n",
       "      <td>TG-5cf92afc1e1c2c00061d9bdd-160106835</td>\n",
       "      <td>160106835</td>\n",
       "    </tr>\n",
       "    <tr>\n",
       "      <th>10</th>\n",
       "      <td>APP_USR-1912429941926624-060611-7161062a596d2d...</td>\n",
       "      <td>1559854940</td>\n",
       "      <td>TG-5cf92afc1e1c2c00061d9bdd-160106835</td>\n",
       "      <td>160106835</td>\n",
       "    </tr>\n",
       "    <tr>\n",
       "      <th>11</th>\n",
       "      <td>APP_USR-1912429941926624-060611-e469c8861f2bf0...</td>\n",
       "      <td>1559855173</td>\n",
       "      <td>TG-5cf92be5758a5b000692742c-160106835</td>\n",
       "      <td>160106835</td>\n",
       "    </tr>\n",
       "    <tr>\n",
       "      <th>12</th>\n",
       "      <td>APP_USR-1912429941926624-060611-e469c8861f2bf0...</td>\n",
       "      <td>1559855173</td>\n",
       "      <td>TG-5cf92be5758a5b000692742c-160106835</td>\n",
       "      <td>160106835</td>\n",
       "    </tr>\n",
       "    <tr>\n",
       "      <th>13</th>\n",
       "      <td>APP_USR-1912429941926624-060611-1b7ce262842905...</td>\n",
       "      <td>1559856571</td>\n",
       "      <td>TG-5cf9315bd8f56b0006f1001c-52409236</td>\n",
       "      <td>52409236</td>\n",
       "    </tr>\n",
       "    <tr>\n",
       "      <th>14</th>\n",
       "      <td>APP_USR-1912429941926624-060611-1b7ce262842905...</td>\n",
       "      <td>1559856571</td>\n",
       "      <td>TG-5cf9315bd8f56b0006f1001c-52409236</td>\n",
       "      <td>52409236</td>\n",
       "    </tr>\n",
       "    <tr>\n",
       "      <th>15</th>\n",
       "      <td>APP_USR-1912429941926624-060611-1b7ce262842905...</td>\n",
       "      <td>1559856571</td>\n",
       "      <td>TG-5cf9315bd8f56b0006f1001c-52409236</td>\n",
       "      <td>52409236</td>\n",
       "    </tr>\n",
       "    <tr>\n",
       "      <th>16</th>\n",
       "      <td>APP_USR-1912429941926624-060611-40d5aebbb53c8a...</td>\n",
       "      <td>1559857123</td>\n",
       "      <td>TG-5cf93383d8f56b0006f13eb9-264771193</td>\n",
       "      <td>264771193</td>\n",
       "    </tr>\n",
       "    <tr>\n",
       "      <th>17</th>\n",
       "      <td>APP_USR-1912429941926624-060611-8326cc1e22041e...</td>\n",
       "      <td>1559858135</td>\n",
       "      <td>TG-5cf93777d8f56b0006f1a5dd-25979503</td>\n",
       "      <td>25979503</td>\n",
       "    </tr>\n",
       "    <tr>\n",
       "      <th>18</th>\n",
       "      <td></td>\n",
       "      <td>1559837322</td>\n",
       "      <td></td>\n",
       "      <td></td>\n",
       "    </tr>\n",
       "    <tr>\n",
       "      <th>19</th>\n",
       "      <td>APP_USR-1912429941926624-060612-b7f6687770ba7f...</td>\n",
       "      <td>1559858942</td>\n",
       "      <td>TG-5cf93a9ed8f56b0006f1febf-415504152</td>\n",
       "      <td>415504152</td>\n",
       "    </tr>\n",
       "    <tr>\n",
       "      <th>20</th>\n",
       "      <td>APP_USR-1912429941926624-060612-b7f6687770ba7f...</td>\n",
       "      <td>1559858942</td>\n",
       "      <td>TG-5cf93a9ed8f56b0006f1febf-415504152</td>\n",
       "      <td>415504152</td>\n",
       "    </tr>\n",
       "    <tr>\n",
       "      <th>21</th>\n",
       "      <td>APP_USR-1912429941926624-060613-35c8353eeb1a24...</td>\n",
       "      <td>1559863676</td>\n",
       "      <td>TG-5cf94d1c758a5b000695f4d6-49879316</td>\n",
       "      <td>49879316</td>\n",
       "    </tr>\n",
       "    <tr>\n",
       "      <th>22</th>\n",
       "      <td>APP_USR-1912429941926624-060613-59e5a9a1b04627...</td>\n",
       "      <td>1559863914</td>\n",
       "      <td>TG-5cf94e0ad8f56b0006f406e6-24869809</td>\n",
       "      <td>24869809</td>\n",
       "    </tr>\n",
       "    <tr>\n",
       "      <th>23</th>\n",
       "      <td>APP_USR-1912429941926624-060613-59e5a9a1b04627...</td>\n",
       "      <td>1559863914</td>\n",
       "      <td>TG-5cf94e0ad8f56b0006f406e6-24869809</td>\n",
       "      <td>24869809</td>\n",
       "    </tr>\n",
       "    <tr>\n",
       "      <th>24</th>\n",
       "      <td>APP_USR-1912429941926624-071518-c03323bf01f8ad...</td>\n",
       "      <td>1563236463</td>\n",
       "      <td>TG-5d2cc40f33ef7f000620bf48-150321466</td>\n",
       "      <td>None</td>\n",
       "    </tr>\n",
       "  </tbody>\n",
       "</table>\n",
       "</div>"
      ],
      "text/plain": [
       "                                                token  experation  \\\n",
       "0   APP_USR-1912429941926624-060715-9b583036141081...  1559957742   \n",
       "1                                                      1560083276   \n",
       "2   APP_USR-1912429941926624-060311-3cc742cad30302...  1559598333   \n",
       "3   APP_USR-1912429941926624-060311-c410becc0e9883...  1559598688   \n",
       "4   APP_USR-1912429941926624-060408-63fd54d10aea45...  1559674323   \n",
       "5   APP_USR-1912429941926624-060413-c69a8ab2aee700...  1559689284   \n",
       "6   APP_USR-1912429941926624-060518-05a26d15e5492c...  1559795665   \n",
       "7   APP_USR-1912429941926624-060521-69416063977d1c...  1559805146   \n",
       "8   APP_USR-1912429941926624-060610-3654c6a11cfc3a...  1559851832   \n",
       "9   APP_USR-1912429941926624-060611-7161062a596d2d...  1559854940   \n",
       "10  APP_USR-1912429941926624-060611-7161062a596d2d...  1559854940   \n",
       "11  APP_USR-1912429941926624-060611-e469c8861f2bf0...  1559855173   \n",
       "12  APP_USR-1912429941926624-060611-e469c8861f2bf0...  1559855173   \n",
       "13  APP_USR-1912429941926624-060611-1b7ce262842905...  1559856571   \n",
       "14  APP_USR-1912429941926624-060611-1b7ce262842905...  1559856571   \n",
       "15  APP_USR-1912429941926624-060611-1b7ce262842905...  1559856571   \n",
       "16  APP_USR-1912429941926624-060611-40d5aebbb53c8a...  1559857123   \n",
       "17  APP_USR-1912429941926624-060611-8326cc1e22041e...  1559858135   \n",
       "18                                                     1559837322   \n",
       "19  APP_USR-1912429941926624-060612-b7f6687770ba7f...  1559858942   \n",
       "20  APP_USR-1912429941926624-060612-b7f6687770ba7f...  1559858942   \n",
       "21  APP_USR-1912429941926624-060613-35c8353eeb1a24...  1559863676   \n",
       "22  APP_USR-1912429941926624-060613-59e5a9a1b04627...  1559863914   \n",
       "23  APP_USR-1912429941926624-060613-59e5a9a1b04627...  1559863914   \n",
       "24  APP_USR-1912429941926624-071518-c03323bf01f8ad...  1563236463   \n",
       "\n",
       "                                  refresh         id  \n",
       "0   TG-5cfabc8e80c8a10006074632-160106835  160106835  \n",
       "1                                                     \n",
       "2   TG-5cf5409de7a1f500075c8307-160106835  160106835  \n",
       "3   TG-5cf5420082bacf0006fb8aff-109115405  109115405  \n",
       "4   TG-5cf6697382bacf00061c1b7d-160106835  160106835  \n",
       "5   TG-5cf6a3e482bacf000623041e-160106835  160106835  \n",
       "6   TG-5cf84371e7a1f50007af8050-160106835  160106835  \n",
       "7    TG-5cf8687ad8f56b0006e09d0f-89591965   89591965  \n",
       "8   TG-5cf91ed81e1c2c00061c56f4-160106835  160106835  \n",
       "9   TG-5cf92afc1e1c2c00061d9bdd-160106835  160106835  \n",
       "10  TG-5cf92afc1e1c2c00061d9bdd-160106835  160106835  \n",
       "11  TG-5cf92be5758a5b000692742c-160106835  160106835  \n",
       "12  TG-5cf92be5758a5b000692742c-160106835  160106835  \n",
       "13   TG-5cf9315bd8f56b0006f1001c-52409236   52409236  \n",
       "14   TG-5cf9315bd8f56b0006f1001c-52409236   52409236  \n",
       "15   TG-5cf9315bd8f56b0006f1001c-52409236   52409236  \n",
       "16  TG-5cf93383d8f56b0006f13eb9-264771193  264771193  \n",
       "17   TG-5cf93777d8f56b0006f1a5dd-25979503   25979503  \n",
       "18                                                    \n",
       "19  TG-5cf93a9ed8f56b0006f1febf-415504152  415504152  \n",
       "20  TG-5cf93a9ed8f56b0006f1febf-415504152  415504152  \n",
       "21   TG-5cf94d1c758a5b000695f4d6-49879316   49879316  \n",
       "22   TG-5cf94e0ad8f56b0006f406e6-24869809   24869809  \n",
       "23   TG-5cf94e0ad8f56b0006f406e6-24869809   24869809  \n",
       "24  TG-5d2cc40f33ef7f000620bf48-150321466       None  "
      ]
     },
     "execution_count": 7,
     "metadata": {},
     "output_type": "execute_result"
    }
   ],
   "source": [
    "usuariosnuevos"
   ]
  },
  {
   "cell_type": "code",
   "execution_count": 8,
   "metadata": {},
   "outputs": [],
   "source": [
    "usuarios = usuariosnuevos.groupby(['id']).last().reset_index()"
   ]
  },
  {
   "cell_type": "code",
   "execution_count": 9,
   "metadata": {},
   "outputs": [
    {
     "data": {
      "text/html": [
       "<div>\n",
       "<style scoped>\n",
       "    .dataframe tbody tr th:only-of-type {\n",
       "        vertical-align: middle;\n",
       "    }\n",
       "\n",
       "    .dataframe tbody tr th {\n",
       "        vertical-align: top;\n",
       "    }\n",
       "\n",
       "    .dataframe thead th {\n",
       "        text-align: right;\n",
       "    }\n",
       "</style>\n",
       "<table border=\"1\" class=\"dataframe\">\n",
       "  <thead>\n",
       "    <tr style=\"text-align: right;\">\n",
       "      <th></th>\n",
       "      <th>id</th>\n",
       "      <th>token</th>\n",
       "      <th>experation</th>\n",
       "      <th>refresh</th>\n",
       "    </tr>\n",
       "  </thead>\n",
       "  <tbody>\n",
       "    <tr>\n",
       "      <th>0</th>\n",
       "      <td></td>\n",
       "      <td></td>\n",
       "      <td>1559837322</td>\n",
       "      <td></td>\n",
       "    </tr>\n",
       "    <tr>\n",
       "      <th>1</th>\n",
       "      <td>109115405</td>\n",
       "      <td>APP_USR-1912429941926624-060311-c410becc0e9883...</td>\n",
       "      <td>1559598688</td>\n",
       "      <td>TG-5cf5420082bacf0006fb8aff-109115405</td>\n",
       "    </tr>\n",
       "    <tr>\n",
       "      <th>2</th>\n",
       "      <td>160106835</td>\n",
       "      <td>APP_USR-1912429941926624-060611-e469c8861f2bf0...</td>\n",
       "      <td>1559855173</td>\n",
       "      <td>TG-5cf92be5758a5b000692742c-160106835</td>\n",
       "    </tr>\n",
       "    <tr>\n",
       "      <th>3</th>\n",
       "      <td>24869809</td>\n",
       "      <td>APP_USR-1912429941926624-060613-59e5a9a1b04627...</td>\n",
       "      <td>1559863914</td>\n",
       "      <td>TG-5cf94e0ad8f56b0006f406e6-24869809</td>\n",
       "    </tr>\n",
       "    <tr>\n",
       "      <th>4</th>\n",
       "      <td>25979503</td>\n",
       "      <td>APP_USR-1912429941926624-060611-8326cc1e22041e...</td>\n",
       "      <td>1559858135</td>\n",
       "      <td>TG-5cf93777d8f56b0006f1a5dd-25979503</td>\n",
       "    </tr>\n",
       "    <tr>\n",
       "      <th>5</th>\n",
       "      <td>264771193</td>\n",
       "      <td>APP_USR-1912429941926624-060611-40d5aebbb53c8a...</td>\n",
       "      <td>1559857123</td>\n",
       "      <td>TG-5cf93383d8f56b0006f13eb9-264771193</td>\n",
       "    </tr>\n",
       "    <tr>\n",
       "      <th>6</th>\n",
       "      <td>415504152</td>\n",
       "      <td>APP_USR-1912429941926624-060612-b7f6687770ba7f...</td>\n",
       "      <td>1559858942</td>\n",
       "      <td>TG-5cf93a9ed8f56b0006f1febf-415504152</td>\n",
       "    </tr>\n",
       "    <tr>\n",
       "      <th>7</th>\n",
       "      <td>49879316</td>\n",
       "      <td>APP_USR-1912429941926624-060613-35c8353eeb1a24...</td>\n",
       "      <td>1559863676</td>\n",
       "      <td>TG-5cf94d1c758a5b000695f4d6-49879316</td>\n",
       "    </tr>\n",
       "    <tr>\n",
       "      <th>8</th>\n",
       "      <td>52409236</td>\n",
       "      <td>APP_USR-1912429941926624-060611-1b7ce262842905...</td>\n",
       "      <td>1559856571</td>\n",
       "      <td>TG-5cf9315bd8f56b0006f1001c-52409236</td>\n",
       "    </tr>\n",
       "    <tr>\n",
       "      <th>9</th>\n",
       "      <td>89591965</td>\n",
       "      <td>APP_USR-1912429941926624-060521-69416063977d1c...</td>\n",
       "      <td>1559805146</td>\n",
       "      <td>TG-5cf8687ad8f56b0006e09d0f-89591965</td>\n",
       "    </tr>\n",
       "  </tbody>\n",
       "</table>\n",
       "</div>"
      ],
      "text/plain": [
       "          id                                              token  experation  \\\n",
       "0                                                                1559837322   \n",
       "1  109115405  APP_USR-1912429941926624-060311-c410becc0e9883...  1559598688   \n",
       "2  160106835  APP_USR-1912429941926624-060611-e469c8861f2bf0...  1559855173   \n",
       "3   24869809  APP_USR-1912429941926624-060613-59e5a9a1b04627...  1559863914   \n",
       "4   25979503  APP_USR-1912429941926624-060611-8326cc1e22041e...  1559858135   \n",
       "5  264771193  APP_USR-1912429941926624-060611-40d5aebbb53c8a...  1559857123   \n",
       "6  415504152  APP_USR-1912429941926624-060612-b7f6687770ba7f...  1559858942   \n",
       "7   49879316  APP_USR-1912429941926624-060613-35c8353eeb1a24...  1559863676   \n",
       "8   52409236  APP_USR-1912429941926624-060611-1b7ce262842905...  1559856571   \n",
       "9   89591965  APP_USR-1912429941926624-060521-69416063977d1c...  1559805146   \n",
       "\n",
       "                                 refresh  \n",
       "0                                         \n",
       "1  TG-5cf5420082bacf0006fb8aff-109115405  \n",
       "2  TG-5cf92be5758a5b000692742c-160106835  \n",
       "3   TG-5cf94e0ad8f56b0006f406e6-24869809  \n",
       "4   TG-5cf93777d8f56b0006f1a5dd-25979503  \n",
       "5  TG-5cf93383d8f56b0006f13eb9-264771193  \n",
       "6  TG-5cf93a9ed8f56b0006f1febf-415504152  \n",
       "7   TG-5cf94d1c758a5b000695f4d6-49879316  \n",
       "8   TG-5cf9315bd8f56b0006f1001c-52409236  \n",
       "9   TG-5cf8687ad8f56b0006e09d0f-89591965  "
      ]
     },
     "execution_count": 9,
     "metadata": {},
     "output_type": "execute_result"
    }
   ],
   "source": [
    "usuarios"
   ]
  },
  {
   "cell_type": "code",
   "execution_count": null,
   "metadata": {},
   "outputs": [],
   "source": [
    "#usuarios = usuariosnuevos.merge(usuarioscargados, on = 'id', how='outer', indicator='union')"
   ]
  },
  {
   "cell_type": "code",
   "execution_count": null,
   "metadata": {},
   "outputs": [],
   "source": [
    "#usuarios.rename(columns={'token_x':'token' , 'experation_x':'experation', 'refresh_x': 'refresh'}, inplace=True)"
   ]
  },
  {
   "cell_type": "code",
   "execution_count": null,
   "metadata": {},
   "outputs": [],
   "source": [
    "#usuarios.drop(['Unnamed: 0', 'token_y','experation_y', 'refresh_y', 'union'],axis=1, inplace=True)"
   ]
  },
  {
   "cell_type": "code",
   "execution_count": 10,
   "metadata": {},
   "outputs": [],
   "source": [
    "usuarios.dropna(inplace=True)"
   ]
  },
  {
   "cell_type": "code",
   "execution_count": 11,
   "metadata": {},
   "outputs": [
    {
     "data": {
      "text/plain": [
       "['',\n",
       " '109115405',\n",
       " '160106835',\n",
       " '24869809',\n",
       " '25979503',\n",
       " '264771193',\n",
       " '415504152',\n",
       " '49879316',\n",
       " '52409236',\n",
       " '89591965']"
      ]
     },
     "execution_count": 11,
     "metadata": {},
     "output_type": "execute_result"
    }
   ],
   "source": [
    "idcolumn = \"id\"\n",
    "id = usuarios[idcolumn].tolist()\n",
    "id"
   ]
  },
  {
   "cell_type": "code",
   "execution_count": 12,
   "metadata": {},
   "outputs": [
    {
     "data": {
      "text/plain": [
       "['',\n",
       " 'APP_USR-1912429941926624-060311-c410becc0e98837d98951b8a0873fb2d-109115405',\n",
       " 'APP_USR-1912429941926624-060611-e469c8861f2bf0b9b7995cb7c17f5369-160106835',\n",
       " 'APP_USR-1912429941926624-060613-59e5a9a1b0462716c7c9189655158305-24869809',\n",
       " 'APP_USR-1912429941926624-060611-8326cc1e22041e1ecfc00464583a5353-25979503',\n",
       " 'APP_USR-1912429941926624-060611-40d5aebbb53c8aa0227a46e45cc2e033-264771193',\n",
       " 'APP_USR-1912429941926624-060612-b7f6687770ba7f6fde20769f00825320-415504152',\n",
       " 'APP_USR-1912429941926624-060613-35c8353eeb1a242779be8ff11f162cac-49879316',\n",
       " 'APP_USR-1912429941926624-060611-1b7ce26284290542f3c5ea77a4fcca52-52409236',\n",
       " 'APP_USR-1912429941926624-060521-69416063977d1c1fbfb1f306d3efb0b1-89591965']"
      ]
     },
     "execution_count": 12,
     "metadata": {},
     "output_type": "execute_result"
    }
   ],
   "source": [
    "tokencolumn = \"token\"\n",
    "token = usuarios[tokencolumn].tolist()\n",
    "token"
   ]
  },
  {
   "cell_type": "code",
   "execution_count": 13,
   "metadata": {},
   "outputs": [
    {
     "data": {
      "text/plain": [
       "['',\n",
       " 'TG-5cf5420082bacf0006fb8aff-109115405',\n",
       " 'TG-5cf92be5758a5b000692742c-160106835',\n",
       " 'TG-5cf94e0ad8f56b0006f406e6-24869809',\n",
       " 'TG-5cf93777d8f56b0006f1a5dd-25979503',\n",
       " 'TG-5cf93383d8f56b0006f13eb9-264771193',\n",
       " 'TG-5cf93a9ed8f56b0006f1febf-415504152',\n",
       " 'TG-5cf94d1c758a5b000695f4d6-49879316',\n",
       " 'TG-5cf9315bd8f56b0006f1001c-52409236',\n",
       " 'TG-5cf8687ad8f56b0006e09d0f-89591965']"
      ]
     },
     "execution_count": 13,
     "metadata": {},
     "output_type": "execute_result"
    }
   ],
   "source": [
    "refreshcolumn='refresh'\n",
    "refresh=usuarios[refreshcolumn].tolist()\n",
    "refresh"
   ]
  },
  {
   "cell_type": "code",
   "execution_count": 14,
   "metadata": {},
   "outputs": [
    {
     "data": {
      "text/plain": [
       "\"https://api.mercadolibre.com/oauth/token?grant_type=refresh_token&client_id=1912429941926624&client_secret=2osL4sARz7dOXdlljMyu8YMjv3aCZcW5&refresh_token=['', 'TG-5cf5420082bacf0006fb8aff-109115405', 'TG-5cf92be5758a5b000692742c-160106835', 'TG-5cf94e0ad8f56b0006f406e6-24869809', 'TG-5cf93777d8f56b0006f1a5dd-25979503', 'TG-5cf93383d8f56b0006f13eb9-264771193', 'TG-5cf93a9ed8f56b0006f1febf-415504152', 'TG-5cf94d1c758a5b000695f4d6-49879316', 'TG-5cf9315bd8f56b0006f1001c-52409236', 'TG-5cf8687ad8f56b0006e09d0f-89591965']\""
      ]
     },
     "execution_count": 14,
     "metadata": {},
     "output_type": "execute_result"
    }
   ],
   "source": [
    "aut_refresh=\"https://api.mercadolibre.com/oauth/token?grant_type=refresh_token&client_id=1912429941926624&client_secret=2osL4sARz7dOXdlljMyu8YMjv3aCZcW5&refresh_token={}\".format(refresh)\n",
    "aut_refresh"
   ]
  },
  {
   "cell_type": "code",
   "execution_count": 15,
   "metadata": {},
   "outputs": [],
   "source": [
    "def get_nuevotoken(refresh, return_full_response=False):\n",
    "    # Set up your Geocoding url\n",
    "    aut_refresh=\"https://api.mercadolibre.com/oauth/token?grant_type=refresh_token&client_id=1912429941926624&client_secret=2osL4sARz7dOXdlljMyu8YMjv3aCZcW5&refresh_token={}\".format(refresh)\n",
    "    \n",
    "    # Ping google for the reuslts:\n",
    "    results = requests.post(aut_refresh)\n",
    "    # Results will be in JSON format - convert to dict using requests functionality\n",
    "    results = results.json()\n",
    "    return results"
   ]
  },
  {
   "cell_type": "code",
   "execution_count": 16,
   "metadata": {},
   "outputs": [],
   "source": [
    "# Create a list to hold results\n",
    "results = []\n",
    "# Go through each address in turn\n",
    "for refresh in refresh:\n",
    "   meli_result = get_nuevotoken(refresh)\n",
    "   results.append(meli_result)  \n"
   ]
  },
  {
   "cell_type": "code",
   "execution_count": 17,
   "metadata": {},
   "outputs": [
    {
     "data": {
      "text/plain": [
       "[{'message': 'The following parameters are required: client_id,client_secret,grant_type,refresh_token,caller.admin. Empty parameter refresh_token',\n",
       "  'error': 'invalid_request',\n",
       "  'status': 400,\n",
       "  'cause': []},\n",
       " {'message': 'User has no grant for application',\n",
       "  'error': 'unauthorized',\n",
       "  'status': 401,\n",
       "  'cause': []},\n",
       " {'access_token': 'APP_USR-1912429941926624-082219-d803d1706eeaa3f89da0f27e06c8956d-160106835',\n",
       "  'token_type': 'bearer',\n",
       "  'expires_in': 21600,\n",
       "  'scope': 'offline_access read',\n",
       "  'user_id': 160106835,\n",
       "  'refresh_token': 'TG-5cf92be5758a5b000692742c-160106835'},\n",
       " {'access_token': 'APP_USR-1912429941926624-082219-e22096660d57e4854b5e372686b44183-24869809',\n",
       "  'token_type': 'bearer',\n",
       "  'expires_in': 21600,\n",
       "  'scope': 'offline_access read',\n",
       "  'user_id': 24869809,\n",
       "  'refresh_token': 'TG-5cf94e0ad8f56b0006f406e6-24869809'},\n",
       " {'access_token': 'APP_USR-1912429941926624-082219-a0e40b4a1a62c647550127e0c52c51de-25979503',\n",
       "  'token_type': 'bearer',\n",
       "  'expires_in': 21600,\n",
       "  'scope': 'offline_access read',\n",
       "  'user_id': 25979503,\n",
       "  'refresh_token': 'TG-5cf93777d8f56b0006f1a5dd-25979503'},\n",
       " {'access_token': 'APP_USR-1912429941926624-082219-400e2e063dd0436033ca83cd347336dc-264771193',\n",
       "  'token_type': 'bearer',\n",
       "  'expires_in': 21600,\n",
       "  'scope': 'offline_access read',\n",
       "  'user_id': 264771193,\n",
       "  'refresh_token': 'TG-5cf93383d8f56b0006f13eb9-264771193'},\n",
       " {'access_token': 'APP_USR-1912429941926624-082219-d44e30b4d87a9eda26651138d98e5ba2-415504152',\n",
       "  'token_type': 'bearer',\n",
       "  'expires_in': 21600,\n",
       "  'scope': 'offline_access read',\n",
       "  'user_id': 415504152,\n",
       "  'refresh_token': 'TG-5cf93a9ed8f56b0006f1febf-415504152'},\n",
       " {'access_token': 'APP_USR-1912429941926624-082219-f2ad2cb02464f2f152a53a0a798e85d3-49879316',\n",
       "  'token_type': 'bearer',\n",
       "  'expires_in': 21600,\n",
       "  'scope': 'offline_access read',\n",
       "  'user_id': 49879316,\n",
       "  'refresh_token': 'TG-5cf94d1c758a5b000695f4d6-49879316'},\n",
       " {'access_token': 'APP_USR-1912429941926624-082219-6f9e5d3b4165cb0938b3bc3453a51f75-52409236',\n",
       "  'token_type': 'bearer',\n",
       "  'expires_in': 21600,\n",
       "  'scope': 'offline_access read',\n",
       "  'user_id': 52409236,\n",
       "  'refresh_token': 'TG-5cf9315bd8f56b0006f1001c-52409236'},\n",
       " {'message': 'User has no grant for application',\n",
       "  'error': 'unauthorized',\n",
       "  'status': 401,\n",
       "  'cause': []}]"
      ]
     },
     "execution_count": 17,
     "metadata": {},
     "output_type": "execute_result"
    }
   ],
   "source": [
    "results"
   ]
  },
  {
   "cell_type": "code",
   "execution_count": 18,
   "metadata": {},
   "outputs": [
    {
     "data": {
      "text/plain": [
       "['https://api.mercadolibre.com/oauth/token?grant_type=refresh_token&client_id=1912429941926624&client_secret=2osL4sARz7dOXdlljMyu8YMjv3aCZcW5&refresh_token=',\n",
       " 'https://api.mercadolibre.com/oauth/token?grant_type=refresh_token&client_id=1912429941926624&client_secret=2osL4sARz7dOXdlljMyu8YMjv3aCZcW5&refresh_token=TG-5cf5420082bacf0006fb8aff-109115405',\n",
       " 'https://api.mercadolibre.com/oauth/token?grant_type=refresh_token&client_id=1912429941926624&client_secret=2osL4sARz7dOXdlljMyu8YMjv3aCZcW5&refresh_token=TG-5cf92be5758a5b000692742c-160106835',\n",
       " 'https://api.mercadolibre.com/oauth/token?grant_type=refresh_token&client_id=1912429941926624&client_secret=2osL4sARz7dOXdlljMyu8YMjv3aCZcW5&refresh_token=TG-5cf94e0ad8f56b0006f406e6-24869809',\n",
       " 'https://api.mercadolibre.com/oauth/token?grant_type=refresh_token&client_id=1912429941926624&client_secret=2osL4sARz7dOXdlljMyu8YMjv3aCZcW5&refresh_token=TG-5cf93777d8f56b0006f1a5dd-25979503',\n",
       " 'https://api.mercadolibre.com/oauth/token?grant_type=refresh_token&client_id=1912429941926624&client_secret=2osL4sARz7dOXdlljMyu8YMjv3aCZcW5&refresh_token=TG-5cf93383d8f56b0006f13eb9-264771193',\n",
       " 'https://api.mercadolibre.com/oauth/token?grant_type=refresh_token&client_id=1912429941926624&client_secret=2osL4sARz7dOXdlljMyu8YMjv3aCZcW5&refresh_token=TG-5cf93a9ed8f56b0006f1febf-415504152',\n",
       " 'https://api.mercadolibre.com/oauth/token?grant_type=refresh_token&client_id=1912429941926624&client_secret=2osL4sARz7dOXdlljMyu8YMjv3aCZcW5&refresh_token=TG-5cf94d1c758a5b000695f4d6-49879316',\n",
       " 'https://api.mercadolibre.com/oauth/token?grant_type=refresh_token&client_id=1912429941926624&client_secret=2osL4sARz7dOXdlljMyu8YMjv3aCZcW5&refresh_token=TG-5cf9315bd8f56b0006f1001c-52409236',\n",
       " 'https://api.mercadolibre.com/oauth/token?grant_type=refresh_token&client_id=1912429941926624&client_secret=2osL4sARz7dOXdlljMyu8YMjv3aCZcW5&refresh_token=TG-5cf8687ad8f56b0006e09d0f-89591965']"
      ]
     },
     "execution_count": 18,
     "metadata": {},
     "output_type": "execute_result"
    }
   ],
   "source": [
    "refresh=(\"https://api.mercadolibre.com/oauth/token?grant_type=refresh_token&client_id=1912429941926624&client_secret=2osL4sARz7dOXdlljMyu8YMjv3aCZcW5&refresh_token=\" + usuarios[refreshcolumn]).tolist()\n",
    "refresh"
   ]
  },
  {
   "cell_type": "code",
   "execution_count": 19,
   "metadata": {},
   "outputs": [],
   "source": [
    "for refresh in refresh:\n",
    "    nuevotoken= requests.post(refresh).json()"
   ]
  },
  {
   "cell_type": "code",
   "execution_count": 20,
   "metadata": {},
   "outputs": [
    {
     "data": {
      "text/plain": [
       "{'message': 'User has no grant for application',\n",
       " 'error': 'unauthorized',\n",
       " 'status': 401,\n",
       " 'cause': []}"
      ]
     },
     "execution_count": 20,
     "metadata": {},
     "output_type": "execute_result"
    }
   ],
   "source": [
    "nuevotoken"
   ]
  },
  {
   "cell_type": "code",
   "execution_count": 34,
   "metadata": {},
   "outputs": [
    {
     "data": {
      "text/plain": [
       "['https://api.mercadolibre.com/users/?access_token=',\n",
       " 'https://api.mercadolibre.com/users/109115405?access_token=APP_USR-1912429941926624-060311-c410becc0e98837d98951b8a0873fb2d-109115405',\n",
       " 'https://api.mercadolibre.com/users/160106835?access_token=APP_USR-1912429941926624-060611-e469c8861f2bf0b9b7995cb7c17f5369-160106835',\n",
       " 'https://api.mercadolibre.com/users/24869809?access_token=APP_USR-1912429941926624-060613-59e5a9a1b0462716c7c9189655158305-24869809',\n",
       " 'https://api.mercadolibre.com/users/25979503?access_token=APP_USR-1912429941926624-060611-8326cc1e22041e1ecfc00464583a5353-25979503',\n",
       " 'https://api.mercadolibre.com/users/264771193?access_token=APP_USR-1912429941926624-060611-40d5aebbb53c8aa0227a46e45cc2e033-264771193',\n",
       " 'https://api.mercadolibre.com/users/415504152?access_token=APP_USR-1912429941926624-060612-b7f6687770ba7f6fde20769f00825320-415504152',\n",
       " 'https://api.mercadolibre.com/users/49879316?access_token=APP_USR-1912429941926624-060613-35c8353eeb1a242779be8ff11f162cac-49879316',\n",
       " 'https://api.mercadolibre.com/users/52409236?access_token=APP_USR-1912429941926624-060611-1b7ce26284290542f3c5ea77a4fcca52-52409236',\n",
       " 'https://api.mercadolibre.com/users/89591965?access_token=APP_USR-1912429941926624-060521-69416063977d1c1fbfb1f306d3efb0b1-89591965']"
      ]
     },
     "execution_count": 34,
     "metadata": {},
     "output_type": "execute_result"
    }
   ],
   "source": [
    "# **** DEMO DATA / avellaneda SPECIFIC! ****\n",
    "urls = ('https://api.mercadolibre.com/users/'+ usuarios[idcolumn]+ '?access_token='+ usuarios[tokencolumn]).tolist()\n",
    "urls"
   ]
  },
  {
   "cell_type": "code",
   "execution_count": 35,
   "metadata": {},
   "outputs": [],
   "source": [
    "for urls in urls:\n",
    "    jsondatos= requests.get(urls).json()"
   ]
  },
  {
   "cell_type": "code",
   "execution_count": 36,
   "metadata": {},
   "outputs": [
    {
     "data": {
      "text/plain": [
       "{'message': 'invalid_token', 'error': 'not_found', 'status': 401, 'cause': []}"
      ]
     },
     "execution_count": 36,
     "metadata": {},
     "output_type": "execute_result"
    }
   ],
   "source": [
    "jsondatos"
   ]
  },
  {
   "cell_type": "code",
   "execution_count": null,
   "metadata": {},
   "outputs": [],
   "source": [
    "text= requests.get(url) #es un diccionario"
   ]
  },
  {
   "cell_type": "code",
   "execution_count": null,
   "metadata": {},
   "outputs": [],
   "source": [
    "jsondatos= requests.get(url).json()"
   ]
  },
  {
   "cell_type": "code",
   "execution_count": 37,
   "metadata": {},
   "outputs": [],
   "source": [
    "datos=pd.DataFrame.from_dict(json_normalize(jsondatos))"
   ]
  },
  {
   "cell_type": "code",
   "execution_count": 38,
   "metadata": {},
   "outputs": [
    {
     "data": {
      "text/html": [
       "<div>\n",
       "<style scoped>\n",
       "    .dataframe tbody tr th:only-of-type {\n",
       "        vertical-align: middle;\n",
       "    }\n",
       "\n",
       "    .dataframe tbody tr th {\n",
       "        vertical-align: top;\n",
       "    }\n",
       "\n",
       "    .dataframe thead th {\n",
       "        text-align: right;\n",
       "    }\n",
       "</style>\n",
       "<table border=\"1\" class=\"dataframe\">\n",
       "  <thead>\n",
       "    <tr style=\"text-align: right;\">\n",
       "      <th></th>\n",
       "      <th>cause</th>\n",
       "      <th>error</th>\n",
       "      <th>message</th>\n",
       "      <th>status</th>\n",
       "    </tr>\n",
       "  </thead>\n",
       "  <tbody>\n",
       "    <tr>\n",
       "      <th>0</th>\n",
       "      <td>[]</td>\n",
       "      <td>not_found</td>\n",
       "      <td>invalid_token</td>\n",
       "      <td>401</td>\n",
       "    </tr>\n",
       "  </tbody>\n",
       "</table>\n",
       "</div>"
      ],
      "text/plain": [
       "  cause      error        message  status\n",
       "0    []  not_found  invalid_token     401"
      ]
     },
     "execution_count": 38,
     "metadata": {},
     "output_type": "execute_result"
    }
   ],
   "source": [
    "datos"
   ]
  }
 ],
 "metadata": {
  "kernelspec": {
   "display_name": "Python 3",
   "language": "python",
   "name": "python3"
  },
  "language_info": {
   "codemirror_mode": {
    "name": "ipython",
    "version": 3
   },
   "file_extension": ".py",
   "mimetype": "text/x-python",
   "name": "python",
   "nbconvert_exporter": "python",
   "pygments_lexer": "ipython3",
   "version": "3.7.3"
  }
 },
 "nbformat": 4,
 "nbformat_minor": 2
}
